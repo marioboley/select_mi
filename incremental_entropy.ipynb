{
 "cells": [
  {
   "attachments": {},
   "cell_type": "markdown",
   "metadata": {},
   "source": [
    "For the distribution induced by a count vector $\\mathbf{c} \\in \\mathbb{N}^k$ with $n=\\sum_{i=1}^k c_i$ we can write the entropy function as\n",
    "\\begin{align*}\n",
    "\\mathrm{H}(\\mathbf{c}) &= - \\sum_{i=1}^k \\frac{c_i}{n} \\log \\frac{c_i}{n}\\\\\n",
    "&=\\log n - \\frac{1}{n} \\sum_{i=1}^k c_i \\log c_i\n",
    "\\end{align*}\n",
    "where as usual we define $0 \\log 0 = 0$.\n",
    "By expressing the sum over counts as\n",
    "\\begin{equation*}\n",
    "\\sum_{i=1}^k c_i \\log c_i = n(\\log n - \\mathrm{H}(\\mathbf{c}))\n",
    "\\end{equation*}\n",
    "we can derive the following incremental formula for the entropy of a count vector $\\mathbf{c}+\\delta\\mathbf{e}_i$:\n",
    "\\begin{equation*}\n",
    "\\mathrm{H}(\\mathbf{c} + \\delta\\mathbf{e}_i) =\n",
    "\\begin{cases}\n",
    "0 &, \\text{ if } n = 0 \\text{ or } n = -\\delta\\\\\n",
    "\\log(n + \\delta) - ((c_i+\\delta)\\log (c_i+\\delta) + n(\\log n - H(\\mathbf{c})) - c_i \\log c_i )/(n+\\delta) &, \\text{ otherwise}\\\\\n",
    "\\end{cases}\n",
    "\\end{equation*}"
   ]
  },
  {
   "cell_type": "code",
   "execution_count": 1,
   "metadata": {},
   "outputs": [],
   "source": [
    "import numpy as np\n",
    "\n",
    "def entropy_from_counts(counts):\n",
    "    n = sum(counts)\n",
    "    return np.log(n) - sum(counts*np.log(counts))/n\n",
    "\n",
    "def incremental_entropy(h_old, n, c_old, c_new):\n",
    "    delta = c_new - c_old\n",
    "    if n == 0 or n == -delta: # old or new histogram empty\n",
    "        return 0.0\n",
    "    else:\n",
    "        new_term = c_new*np.log(c_new) if c_new > 0 else 0\n",
    "        old_term = c_old*np.log(c_old) if c_old > 0 else 0\n",
    "        return np.log(n+delta)-(new_term + n*(np.log(n)-h_old) - old_term)/(n+delta)\n"
   ]
  },
  {
   "cell_type": "code",
   "execution_count": 2,
   "metadata": {},
   "outputs": [
    {
     "name": "stdout",
     "output_type": "stream",
     "text": [
      "testing: [1 1 1 1] -> [2 1 1 1]\n",
      "1.3862943611198906\n",
      "1.3321790402101223\n",
      "1.3321790402101221\n",
      "True\n",
      "\n",
      "testing: [1 1 1 1] -> [0 1 1 1]\n",
      "1.3862943611198906\n",
      "1.0986122886681096\n",
      "1.0986122886681098\n",
      "True\n",
      "\n",
      "testing: [0 1 1 1] -> [1 1 1 1]\n",
      "1.0986122886681096\n",
      "1.3862943611198906\n",
      "1.3862943611198904\n",
      "True\n",
      "\n"
     ]
    }
   ],
   "source": [
    "from scipy.stats import entropy \n",
    "\n",
    "def test(counts, delta, i):\n",
    "    _counts = counts.copy()\n",
    "    _counts[i] += delta\n",
    "    print('testing:', counts, '->', _counts)\n",
    "\n",
    "    n = sum(counts)\n",
    "    ent = entropy(counts, base=np.e)\n",
    "    _ent = entropy(_counts, base=np.e)\n",
    "    incr = incremental_entropy(ent, n, counts[i], _counts[i])\n",
    "\n",
    "    print(ent)    \n",
    "    print(_ent)\n",
    "    print(incr)\n",
    "    print(np.isclose(_ent,incr))\n",
    "    print()\n",
    "\n",
    "t1 = np.array([1, 1, 1, 1])\n",
    "t2 = np.array([0, 1, 1, 1])\n",
    "    \n",
    "test(t1, 1, 0)\n",
    "test(t1, -1, 0)\n",
    "test(t2, 1, 0)"
   ]
  },
  {
   "cell_type": "code",
   "execution_count": 3,
   "metadata": {},
   "outputs": [
    {
     "name": "stdout",
     "output_type": "stream",
     "text": [
      "testing: [1 0 0 0] -> [2 0 0 0]\n",
      "0.0\n",
      "0.0\n",
      "0.0\n",
      "True\n",
      "\n",
      "testing: [1 0 0 0] -> [1 1 0 0]\n",
      "0.0\n",
      "0.6931471805599453\n",
      "0.6931471805599453\n",
      "True\n",
      "\n",
      "testing: [1 0 0 0] -> [0 0 0 0]\n",
      "0.0\n",
      "nan\n",
      "0.0\n",
      "False\n",
      "\n"
     ]
    },
    {
     "name": "stderr",
     "output_type": "stream",
     "text": [
      "/usr/local/lib/python3.9/site-packages/scipy/stats/_entropy.py:77: RuntimeWarning: invalid value encountered in true_divide\n",
      "  pk = 1.0*pk / np.sum(pk, axis=axis, keepdims=True)\n"
     ]
    }
   ],
   "source": [
    "t3 = np.array([1, 0, 0, 0])\n",
    "test(t3, 1, 0)\n",
    "test(t3, 1, 1)\n",
    "test(t3, -1, 0)"
   ]
  },
  {
   "cell_type": "code",
   "execution_count": 4,
   "metadata": {},
   "outputs": [
    {
     "name": "stdout",
     "output_type": "stream",
     "text": [
      "testing: [0 1 0 0 0] -> [0 2 0 0 0]\n",
      "0.0\n",
      "0.0\n",
      "0.0\n",
      "True\n",
      "\n"
     ]
    }
   ],
   "source": [
    "t4 = np.array([0, 1, 0, 0, 0])\n",
    "test(t4, 1, 1)"
   ]
  },
  {
   "cell_type": "code",
   "execution_count": 5,
   "metadata": {},
   "outputs": [
    {
     "name": "stdout",
     "output_type": "stream",
     "text": [
      "testing: [0 2 0 0 0] -> [0 2 0 1 0]\n",
      "0.0\n",
      "0.6365141682948128\n",
      "0.636514168294813\n",
      "True\n",
      "\n"
     ]
    }
   ],
   "source": [
    "t5 = np.array([0, 2, 0, 0, 0])\n",
    "test(t5, 1, 3)"
   ]
  },
  {
   "cell_type": "code",
   "execution_count": 6,
   "metadata": {},
   "outputs": [
    {
     "name": "stdout",
     "output_type": "stream",
     "text": [
      "testing: [1 2 1 0 1] -> [1 2 1 0 1]\n",
      "1.3321790402101223\n",
      "1.3321790402101223\n",
      "1.3321790402101223\n",
      "True\n",
      "\n"
     ]
    }
   ],
   "source": [
    "t6 = np.array([1, 2, 1, 0, 1])\n",
    "test(t6, 0, 0)"
   ]
  }
 ],
 "metadata": {
  "kernelspec": {
   "display_name": "Python 3",
   "language": "python",
   "name": "python3"
  },
  "language_info": {
   "codemirror_mode": {
    "name": "ipython",
    "version": 3
   },
   "file_extension": ".py",
   "mimetype": "text/x-python",
   "name": "python",
   "nbconvert_exporter": "python",
   "pygments_lexer": "ipython3",
   "version": "3.9.10"
  },
  "orig_nbformat": 4
 },
 "nbformat": 4,
 "nbformat_minor": 2
}
