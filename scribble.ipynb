{
 "cells": [
  {
   "cell_type": "code",
   "execution_count": 1,
   "metadata": {},
   "outputs": [
    {
     "data": {
      "text/plain": [
       "array([1, 2, 2, 3, 1, 3, 1, 2, 0, 0, 1, 2, 1, 2, 0, 2, 0, 1, 2, 1, 4, 2,\n",
       "       4, 0, 0, 4, 2, 1, 1, 0, 2, 2, 4, 1, 3, 3, 2, 2, 2, 4, 2, 4, 0, 4,\n",
       "       4, 2, 2, 0, 0, 0, 4, 1, 1, 0, 4, 0, 0, 4, 1, 4, 2, 0, 0, 0, 0, 0,\n",
       "       1, 1, 1, 0, 4, 0, 0, 1, 3, 3, 2, 3, 2, 1, 0, 4, 0, 3, 0, 1, 2, 3,\n",
       "       4, 3, 3, 1, 0, 1, 0, 0, 2, 2, 1, 2, 4, 1, 0, 2, 0, 1, 3, 1, 4, 4,\n",
       "       0, 0, 3, 4, 2, 1, 0, 2, 1, 0, 1, 4, 1, 1, 4, 3, 4, 2, 1, 2, 1, 4,\n",
       "       0, 3, 2, 1, 0, 4, 0, 1, 2, 0, 1, 1, 4, 0, 0, 1, 0, 4, 4, 4, 4, 0,\n",
       "       0, 4, 4, 2, 1, 0, 2, 3, 4, 0, 0, 1, 0, 0, 4, 1, 1, 4, 0, 2, 2, 4,\n",
       "       2, 0, 2, 0, 1, 0, 2, 3, 1, 1, 4, 3, 1, 2, 1, 4, 0, 4, 1, 0, 1, 3,\n",
       "       1, 4])"
      ]
     },
     "execution_count": 1,
     "metadata": {},
     "output_type": "execute_result"
    }
   ],
   "source": [
    "import numpy as np\n",
    "from scipy.special import softmax\n",
    "\n",
    "RNG = np.random.default_rng(seed=0)\n",
    "\n",
    "n, r, p = 200, 10, 100\n",
    "x = RNG.multivariate_normal(mean=np.zeros(p), cov=np.eye(p), size=n)\n",
    "\n",
    "k = 5\n",
    "beta_prime = RNG.multivariate_normal(mean=np.zeros(r), cov=np.eye(r), size=k)\n",
    "relevant = RNG.choice(p, r, replace=False)\n",
    "beta = np.zeros(shape=(k,p))\n",
    "beta[:, relevant] = beta_prime\n",
    "probs = softmax(x.dot(beta.T), axis=1)\n",
    "y = np.array([RNG.multinomial(1, probs[i]) for i in range(n)])\n",
    "_, y = np.nonzero(y)\n",
    "y"
   ]
  },
  {
   "cell_type": "code",
   "execution_count": 2,
   "metadata": {},
   "outputs": [
    {
     "data": {
      "text/plain": [
       "array([97, 70, 47,  8,  4, 11, 39, 46, 59, 94])"
      ]
     },
     "execution_count": 2,
     "metadata": {},
     "output_type": "execute_result"
    }
   ],
   "source": [
    "relevant"
   ]
  },
  {
   "cell_type": "code",
   "execution_count": 4,
   "metadata": {},
   "outputs": [],
   "source": [
    "# from collections import defaultdict\n",
    "# from scipy.stats import entropy \n",
    "\n",
    "# def incremental_entropy(h_old, n, c_old, c_new):\n",
    "#     delta = c_new - c_old\n",
    "#     if n == 0 or n == -delta: # old or new histogram empty\n",
    "#         return 0.0\n",
    "#     else:\n",
    "#         new_term = c_new*np.log(c_new) if c_new > 0 else 0\n",
    "#         old_term = c_old*np.log(c_old) if c_old > 0 else 0\n",
    "#         return np.log(n+delta)-(new_term + n*(np.log(n)-h_old) - old_term)/(n+delta)\n",
    "\n",
    "# class Binning2:\n",
    "\n",
    "#     @staticmethod\n",
    "#     def trivial(x, y):\n",
    "#         n, _ = x.shape\n",
    "#         k = len(np.unique(y))\n",
    "#         # print('k', k)\n",
    "#         bins = np.zeros(n, dtype=int)\n",
    "#         max_bin = 0\n",
    "#         counts =  defaultdict(int) # np.zeros(n, dtype=int)\n",
    "#         counts[0] = n\n",
    "#         y_counts = defaultdict(lambda : np.zeros(k, int)) # np.zeros(shape=(n, k), dtype=int)\n",
    "#         _, y_counts[0] = np.unique(y, return_counts=True)\n",
    "#         cond_entr = defaultdict(float) # np.zeros(n)\n",
    "#         cond_entr[0] = entropy(y_counts[0], base=np.e)\n",
    "#         return Binning2(x, y, bins, max_bin, counts, y_counts, cond_entr, cond_entr[0], 1)\n",
    "    \n",
    "#     @staticmethod\n",
    "#     def from_assignment(x, y, bins):\n",
    "#         binning = Binning2.trivial(x, y)\n",
    "#         for i, dest in enumerate(bins):\n",
    "#             binning.move(i, dest)\n",
    "#         return binning\n",
    "\n",
    "#     def __init__(self, x, y, bins, max_bin, counts, y_counts, cond_entr, mean_cond_entr, non_empty_bin_count):\n",
    "#         n, _ = x.shape\n",
    "#         self.n = n\n",
    "#         self.x = x\n",
    "#         self.y = y\n",
    "#         self.bins = bins\n",
    "#         self.max_bin = max_bin\n",
    "#         self.counts = counts\n",
    "#         self.y_counts = y_counts\n",
    "#         self.cond_entr = cond_entr\n",
    "#         self.mean_cond_entr = mean_cond_entr\n",
    "#         self.non_empty_bin_count = non_empty_bin_count\n",
    "\n",
    "#     def move(self, i, dest):\n",
    "#         orig = self.bins[i]\n",
    "#         if orig == dest: \n",
    "#             return\n",
    "        \n",
    "#         self.bins[i] = dest\n",
    "#         c = self.y[i]\n",
    "#         self.mean_cond_entr = self.mean_cond_entr - self.counts[orig]*self.cond_entr[orig]/self.n - self.counts[dest]*self.cond_entr[dest]/self.n\n",
    "#         self.counts[orig] -= 1\n",
    "#         self.counts[dest] += 1\n",
    "#         self.non_empty_bin_count = self.non_empty_bin_count + (self.counts[dest] == 1) - (self.counts[orig] == 0)\n",
    "#         self.y_counts[orig][c] -= 1\n",
    "#         self.y_counts[dest][c] += 1\n",
    "#         self.cond_entr[orig] = incremental_entropy(self.cond_entr[orig], self.counts[orig]+1, self.y_counts[orig][c]+1, self.y_counts[orig][c])\n",
    "#         self.cond_entr[dest] = incremental_entropy(self.cond_entr[dest], self.counts[dest]-1, self.y_counts[dest][c]-1, self.y_counts[dest][c])\n",
    "#         self.mean_cond_entr = self.mean_cond_entr + self.counts[orig]*self.cond_entr[orig]/self.n + self.counts[dest]*self.cond_entr[dest]/self.n\n",
    "\n",
    "#     def apply_cut_off(self, l, order):\n",
    "#         # TODO: remove code duplication\n",
    "#         split_off_bins = {}\n",
    "\n",
    "#         for i in range(l+1):\n",
    "#             j = order[i]\n",
    "#             b = self.bins[j]\n",
    "#             if b not in split_off_bins:\n",
    "#                 self.max_bin += 1\n",
    "#                 split_off_bins[b] = self.max_bin\n",
    "#             _b = split_off_bins[b]\n",
    "#             self.move(j, _b)\n",
    "\n",
    "#     def best_cut_off(self, order, objective, candidate_mask):\n",
    "#         _max_bin = self.max_bin\n",
    "#         split_off_bins = {}\n",
    "#         origins = np.zeros(self.n, dtype=int)\n",
    "\n",
    "#         obj_star = float('inf')\n",
    "#         i_star = -1\n",
    "#         # forward\n",
    "#         for i in range(self.n):\n",
    "#             j = order[i]\n",
    "#             b = self.bins[j]\n",
    "#             if b not in split_off_bins:\n",
    "#                 self.max_bin += 1\n",
    "#                 split_off_bins[b] = self.max_bin\n",
    "#             _b = split_off_bins[b]\n",
    "#             origins[i] = b\n",
    "#             self.move(j, _b)\n",
    "#             if candidate_mask[i]:\n",
    "#                 obj_value = objective(self)\n",
    "#                 if obj_value < obj_star:\n",
    "#                     i_star, obj_star = i, obj_value\n",
    "        \n",
    "#         # rewind\n",
    "#         for i in range(self.n-1, -1, -1):\n",
    "#             j = order[i]\n",
    "#             self.move(j, origins[i])\n",
    "#         self.max_bin = _max_bin\n",
    "\n",
    "#         return i_star, obj_star\n",
    "#         # return i_star, mean_cond_entr_star"
   ]
  },
  {
   "cell_type": "code",
   "execution_count": 36,
   "metadata": {},
   "outputs": [],
   "source": [
    "# from scipy.stats import chi2\n",
    "# from math import isclose\n",
    "\n",
    "# def cond_entr_obj(binning):\n",
    "#     return binning.mean_cond_entr\n",
    "\n",
    "\n",
    "# class VariableSelection:\n",
    "\n",
    "#     def __init__(self, delta=0.05, objective='cond_entr', multiple_cuts_per_var=True, verbose=False):\n",
    "#         self.delta = delta\n",
    "#         self.objective = objective\n",
    "#         self.multiple_cuts_per_var = multiple_cuts_per_var\n",
    "#         self.verbose = verbose\n",
    "\n",
    "#     def p_value(self, binning):\n",
    "#         scaled_mi_diff = 2*self.n_*(self.cond_entr_-binning.mean_cond_entr)\n",
    "#         df = (self.k_-1)*(binning.non_empty_bin_count-self.non_empty_bin_count_)\n",
    "#         return 1 - chi2.cdf(scaled_mi_diff, df)\n",
    "    \n",
    "#     @staticmethod\n",
    "#     def cond_entr(binning):\n",
    "#         return binning.mean_cond_entr\n",
    "\n",
    "#     def fit(self, x, y):\n",
    "#         obj_func = getattr(self, self.objective)\n",
    "#         binning = Binning2.trivial(x, y)\n",
    "#         orders = np.argsort(x, axis=0)\n",
    "\n",
    "#         self.n_, self.p_ = x.shape\n",
    "#         self.k_ = len(np.unique(y))\n",
    "#         num_cand = int(self.n_**0.5)\n",
    "#         cand_indx = int((self.n_/self.n_**0.5) / 2) + np.linspace(0, self.n_, num_cand, endpoint=False).astype(int)\n",
    "#         cand_mask = np.zeros(self.n_, bool)\n",
    "#         cand_mask[cand_indx] = True\n",
    "\n",
    "#         self.non_empty_bin_count_ = binning.non_empty_bin_count\n",
    "#         self.cond_entr_ = binning.mean_cond_entr\n",
    "#         self.num_cuts_selected_ = np.zeros(self.p_, int)\n",
    "#         t = 0\n",
    "\n",
    "#         while True:\n",
    "#             j_star, i_star, obj_star = -1, -1, float('inf')\n",
    "#             for j in range(self.p_):\n",
    "#                 if self.num_cuts_selected_[j]>0 and not self.multiple_cuts_per_var:\n",
    "#                     continue\n",
    "#                 i_j_star, obj_j_star = binning.best_cut_off(orders[:, j], obj_func, cand_mask)\n",
    "#                 if obj_j_star < obj_star:\n",
    "#                     j_star, i_star, obj_star = j, i_j_star, obj_j_star\n",
    "            \n",
    "#             binning.apply_cut_off(i_star, orders[:, j_star])\n",
    "#             correction = (num_cand*self.p_-t) if self.multiple_cuts_per_var else (num_cand*(self.p_-t))\n",
    "#             if self.p_value(binning) <= self.delta / correction:\n",
    "#                 self.num_cuts_selected_[j_star] += 1\n",
    "#                 self.cond_entr_ = binning.mean_cond_entr\n",
    "#                 self.non_empty_bin_count_ = binning.non_empty_bin_count\n",
    "#                 if self.verbose: print('.', end='')\n",
    "#             else:\n",
    "#                 break\n",
    "#             t += 1\n",
    "        \n",
    "#         self.selected_ = np.flatnonzero(self.num_cuts_selected_)\n",
    "#         self.num_cuts_selected_ = self.num_cuts_selected_[self.selected_]\n",
    "#         return self\n",
    "\n",
    "#     def transform(self, x):\n",
    "#         return x[:, self.selected_]\n",
    "    \n",
    "#     def fit_transform(self, x, y):\n",
    "#         return self.fit(x, y).transform(x)\n",
    "\n"
   ]
  },
  {
   "cell_type": "code",
   "execution_count": 5,
   "metadata": {},
   "outputs": [
    {
     "name": "stdout",
     "output_type": "stream",
     "text": [
      "..."
     ]
    },
    {
     "data": {
      "text/plain": [
       "<select_mi.VariableSelection at 0x1300d1be0>"
      ]
     },
     "execution_count": 5,
     "metadata": {},
     "output_type": "execute_result"
    }
   ],
   "source": [
    "from select_mi import VariableSelection\n",
    "\n",
    "var_selection = VariableSelection(0.05, gamma=0.5, objective='p_value', verbose=True)\n",
    "var_selection.fit(x, y)"
   ]
  },
  {
   "cell_type": "code",
   "execution_count": 6,
   "metadata": {},
   "outputs": [
    {
     "data": {
      "text/plain": [
       "array([46, 70, 94])"
      ]
     },
     "execution_count": 6,
     "metadata": {},
     "output_type": "execute_result"
    }
   ],
   "source": [
    "var_selection.selected_"
   ]
  },
  {
   "cell_type": "code",
   "execution_count": 7,
   "metadata": {},
   "outputs": [
    {
     "data": {
      "text/plain": [
       "array([1, 1, 1])"
      ]
     },
     "execution_count": 7,
     "metadata": {},
     "output_type": "execute_result"
    }
   ],
   "source": [
    "var_selection.num_cuts_selected_"
   ]
  },
  {
   "cell_type": "code",
   "execution_count": 8,
   "metadata": {},
   "outputs": [
    {
     "data": {
      "text/plain": [
       "array([46, 70, 94])"
      ]
     },
     "execution_count": 8,
     "metadata": {},
     "output_type": "execute_result"
    }
   ],
   "source": [
    "np.intersect1d(relevant, var_selection.selected_)"
   ]
  },
  {
   "cell_type": "code",
   "execution_count": 9,
   "metadata": {},
   "outputs": [],
   "source": [
    "import numpy as np\n",
    "from scipy.special import softmax\n",
    "from sklearn.base import clone\n",
    "\n",
    "class Problem:\n",
    "\n",
    "    @staticmethod\n",
    "    def randomSparseProblem(p, r, k, random_state=None):\n",
    "        RNG = np.random.default_rng(seed=random_state)\n",
    "        beta_prime = RNG.multivariate_normal(mean=np.zeros(r), cov=np.eye(r), size=k)\n",
    "        relevant = RNG.choice(p, r, replace=False)\n",
    "        beta = np.zeros(shape=(k,p))\n",
    "        beta[:, relevant] = beta_prime\n",
    "        return Problem(beta, relevant)\n",
    "\n",
    "    def __init__(self, beta, relevant):\n",
    "        self.beta = beta\n",
    "        self.relevant = relevant\n",
    "        self.k, self.p = self.beta.shape\n",
    "\n",
    "    def rvs(self, n, random_state=None):\n",
    "        RNG = np.random.default_rng(seed=random_state)\n",
    "        x = RNG.multivariate_normal(mean=np.zeros(self.p), cov=np.eye(self.p), size=n)\n",
    "        probs = softmax(x.dot(self.beta.T), axis=1)\n",
    "        y = np.array([RNG.multinomial(1, probs[i]) for i in range(n)])\n",
    "        _, y = np.nonzero(y)\n",
    "        return x, y"
   ]
  },
  {
   "cell_type": "code",
   "execution_count": 13,
   "metadata": {},
   "outputs": [
    {
     "name": "stdout",
     "output_type": "stream",
     "text": [
      "n:  50\n",
      ".|.|.|.|.|.|.|.|||||.|.|.|.|||||.|.|.|.|||||.|.|.|.|.|.|.|.|.|.|.|.|\n",
      "n:  100\n",
      "..|..|..|..|..|..|..|..|.|.|.|.|..|..|..|..|..|..|..|..|..|..|..|..|..|..|..|..|...|...|...|...|..|..|..|..|..|..|..|..|\n",
      "n:  200\n",
      "....|....|....|....|...|...|...|...|...|...|...|...|...|...|...|...|...|...|...|...|...|...|...|...|...|...|...|...|....|....|....|....|....|....|....|....|..|...|..|...|\n",
      "n:  400\n",
      ".....|.....|.....|.....|.....|.....|.....|.....|.....|.....|.....|.....|.....|.....|.....|.....|.....|.....|.....|.....|....|....|....|....|.....|.....|.....|.....|....|.....|.....|.....|.....|.....|.....|.....|....|....|....|....|\n",
      "n:  800\n",
      "......|......|......|......|......|......|......|......|......|......|......|......|.....|.....|.......|......|......|......|.......|......|......|......|.......|......|......|......|.......|......|......|......|......|......|......|......|......|.....|......|......|......|......|\n"
     ]
    }
   ],
   "source": [
    "class PrecisionRecallExperiment:\n",
    "\n",
    "    def __init__(self, problem, reps, ns, methods, names):\n",
    "        self.problem = problem\n",
    "        self.reps = reps\n",
    "        self.ns = ns\n",
    "        self.methods = methods\n",
    "        self.names = names\n",
    "\n",
    "    def run(self):\n",
    "        self.prec_ = np.zeros(shape=(len(self.methods), self.reps, len(self.ns)))\n",
    "        self.rec_ = np.zeros(shape=(len(self.methods), self.reps, len(self.ns)))\n",
    "        self.num_selected_ = np.zeros(shape=(len(self.methods), self.reps, len(self.ns)))\n",
    "        self.mean_num_cuts_ = np.zeros(shape=(len(self.methods), self.reps, len(self.ns)))\n",
    "        self.max_num_cuts_ = np.zeros(shape=(len(self.methods), self.reps, len(self.ns)))\n",
    "\n",
    "        for j, n in enumerate(self.ns):\n",
    "            print('n: ', n)\n",
    "            for rep in range(self.reps):\n",
    "                x, y = self.problem.rvs(n)\n",
    "                for i, method in enumerate(self.methods):\n",
    "                    selection = clone(method, safe=False)\n",
    "                    selection.fit(x, y) \n",
    "                    intersection = np.intersect1d(selection.selected_, self.problem.relevant)\n",
    "                    precision = len(intersection)/len(selection.selected_) if len(selection.selected_)>0 else 1.0\n",
    "                    recall = len(intersection)/len(self.problem.relevant)\n",
    "                    self.prec_[i, rep, j] = precision\n",
    "                    self.rec_[i, rep, j] = recall\n",
    "                    self.num_selected_[i, rep, j] = len(selection.selected_)\n",
    "                    self.mean_num_cuts_[i, rep, j] = selection.num_cuts_selected_.mean() if len(selection.selected_)>0 else 0.0\n",
    "                    self.max_num_cuts_[i, rep, j] = selection.num_cuts_selected_.max() if len(selection.selected_)>0 else 0.0\n",
    "                    print('|', end='')\n",
    "            print()\n",
    "\n",
    "k = 5\n",
    "r, p = 10, 50\n",
    "problem = Problem.randomSparseProblem(p, r, k, random_state=0)\n",
    "\n",
    "reps = 10\n",
    "alpha = 0.16\n",
    "gamma = 0.4\n",
    "ns = np.array([50, 100, 200, 400, 800])\n",
    "names = ['multiple MI', \n",
    "         'single MI', \n",
    "         'multiple p-val', \n",
    "         'single p-val']\n",
    "methods = [VariableSelection(alpha, gamma=gamma, verbose=True), \n",
    "           VariableSelection(alpha, gamma=gamma, multiple_cuts_per_var=False, verbose=True),\n",
    "           VariableSelection(alpha, gamma=gamma, objective='p_value', verbose=True),\n",
    "           VariableSelection(alpha, gamma=gamma, objective='p_value', multiple_cuts_per_var=False, verbose=True)]\n",
    "\n",
    "precision_recall_exp = PrecisionRecallExperiment(problem, reps, ns, methods, names)\n",
    "precision_recall_exp.run()"
   ]
  },
  {
   "cell_type": "code",
   "execution_count": 73,
   "metadata": {},
   "outputs": [],
   "source": [
    "from matplotlib import pyplot as plt\n",
    "\n",
    "def plot_prec_rec_results(experiment):\n",
    "    _, axs = plt.subplots(1, 4, figsize=(16, 4), tight_layout=True, sharex=True)\n",
    "    for i in range(len(methods)):\n",
    "        axs[0].errorbar(ns, experiment.rec_[i, :, :].mean(axis=0), 1.96*experiment.rec_[i, :, :].std(axis=0)/ns**0.5, label=names[i])\n",
    "        axs[1].errorbar(ns, experiment.prec_[i, :, :].mean(axis=0), 1.96*experiment.prec_[i, :, :].std(axis=0)/ns**0.5, label=names[i])\n",
    "        axs[2].errorbar(ns, experiment.num_selected_[i, :, :].mean(axis=0), 1.96*experiment.num_selected_[i, :, :].std(axis=0)/ns**0.5, label=names[i])\n",
    "        axs[3].errorbar(ns, experiment.max_num_cuts_[i, :, :].mean(axis=0), 1.96*experiment.max_num_cuts_[i, :, :].std(axis=0)/ns**0.5, label=names[i])\n",
    "    for i in range(4):\n",
    "        axs[i].set_xlabel('$n$')\n",
    "    axs[0].set_title('recall')\n",
    "    axs[1].set_title('precision')\n",
    "    axs[2].set_title('vars selected')\n",
    "    axs[3].set_title('max cuts per var')\n",
    "    axs[0].legend()\n"
   ]
  },
  {
   "cell_type": "code",
   "execution_count": 74,
   "metadata": {},
   "outputs": [
    {
     "data": {
      "image/png": "[encoded data removed]",
      "text/plain": [
       "<Figure size 1152x288 with 4 Axes>"
      ]
     },
     "metadata": {
      "needs_background": "light"
     },
     "output_type": "display_data"
    }
   ],
   "source": [
    "\n",
    "plot_prec_rec_results(precision_recall_exp)\n",
    "plt.show()"
   ]
  },
  {
   "cell_type": "code",
   "execution_count": 63,
   "metadata": {},
   "outputs": [],
   "source": [
    "from sklearn.neighbors import KNeighborsClassifier\n",
    "from sklearn.pipeline import make_pipeline\n",
    "from sklearn.model_selection import cross_validate\n",
    "\n",
    "k = 5\n",
    "knn = KNeighborsClassifier(k)\n",
    "knn_w_selection = make_pipeline(VariableSelection(delta=0.16, verbose=True), KNeighborsClassifier(k))"
   ]
  },
  {
   "cell_type": "code",
   "execution_count": 64,
   "metadata": {},
   "outputs": [
    {
     "data": {
      "text/plain": [
       "{'fit_time': array([0.0009439 , 0.00066781, 0.00058532, 0.00056338, 0.00056124]),\n",
       " 'score_time': array([0.01819229, 0.01580811, 0.01433587, 0.01466084, 0.01380205]),\n",
       " 'test_score': array([0.94722222, 0.95555556, 0.96657382, 0.98050139, 0.9637883 ])}"
      ]
     },
     "execution_count": 64,
     "metadata": {},
     "output_type": "execute_result"
    }
   ],
   "source": [
    "from sklearn.datasets import load_digits\n",
    "\n",
    "digits = load_digits()\n",
    "cv_digits_knn = cross_validate(knn, digits.data, digits.target)\n",
    "cv_digits_knn"
   ]
  },
  {
   "cell_type": "code",
   "execution_count": 65,
   "metadata": {},
   "outputs": [
    {
     "data": {
      "text/plain": [
       "0.9627282575054161"
      ]
     },
     "execution_count": 65,
     "metadata": {},
     "output_type": "execute_result"
    }
   ],
   "source": [
    "cv_digits_knn['test_score'].mean()"
   ]
  },
  {
   "cell_type": "code",
   "execution_count": 66,
   "metadata": {},
   "outputs": [
    {
     "name": "stdout",
     "output_type": "stream",
     "text": [
      "..............................."
     ]
    },
    {
     "data": {
      "text/plain": [
       "{'fit_time': array([29.69034982, 29.99945188, 29.69655609, 35.78906989, 34.69340801]),\n",
       " 'score_time': array([0.00940895, 0.00954509, 0.0116961 , 0.01235294, 0.01136804]),\n",
       " 'test_score': array([0.7       , 0.74722222, 0.75766017, 0.8356546 , 0.75208914])}"
      ]
     },
     "execution_count": 66,
     "metadata": {},
     "output_type": "execute_result"
    }
   ],
   "source": [
    "cv_digits_knn_w_selection = cross_validate(knn_w_selection, digits.data, digits.target)\n",
    "cv_digits_knn_w_selection"
   ]
  },
  {
   "cell_type": "code",
   "execution_count": 67,
   "metadata": {},
   "outputs": [
    {
     "data": {
      "text/plain": [
       "0.7585252243887342"
      ]
     },
     "execution_count": 67,
     "metadata": {},
     "output_type": "execute_result"
    }
   ],
   "source": [
    "cv_digits_knn_w_selection['test_score'].mean()"
   ]
  },
  {
   "cell_type": "code",
   "execution_count": 62,
   "metadata": {},
   "outputs": [
    {
     "data": {
      "text/plain": [
       "{'fit_time': array([0.00741768, 0.00290895, 0.00300384, 0.00258517, 0.00240421]),\n",
       " 'score_time': array([1.34362721, 1.45691228, 1.27403617, 1.23489094, 1.31987095]),\n",
       " 'test_score': array([0.63925, 0.62925, 0.65025, 0.741  , 0.77775])}"
      ]
     },
     "execution_count": 62,
     "metadata": {},
     "output_type": "execute_result"
    }
   ],
   "source": [
    "from sklearn.datasets import fetch_covtype\n",
    "\n",
    "covtype = fetch_covtype()\n",
    "cv_covtype_knn = cross_validate(knn, covtype.data[:20000], covtype.target[:20000])\n",
    "cv_covtype_knn"
   ]
  },
  {
   "cell_type": "code",
   "execution_count": null,
   "metadata": {},
   "outputs": [],
   "source": []
  }
 ],
 "metadata": {
  "kernelspec": {
   "display_name": "Python 3",
   "language": "python",
   "name": "python3"
  },
  "language_info": {
   "codemirror_mode": {
    "name": "ipython",
    "version": 3
   },
   "file_extension": ".py",
   "mimetype": "text/x-python",
   "name": "python",
   "nbconvert_exporter": "python",
   "pygments_lexer": "ipython3",
   "version": "3.9.10"
  },
  "orig_nbformat": 4,
  "vscode": {
   "interpreter": {
    "hash": "aee8b7b246df8f9039afb4144a1f6fd8d2ca17a180786b69acc140d282b71a49"
   }
  }
 },
 "nbformat": 4,
 "nbformat_minor": 2
}
