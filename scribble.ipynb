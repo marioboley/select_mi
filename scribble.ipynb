{
 "cells": [
  {
   "cell_type": "code",
   "execution_count": 2,
   "metadata": {},
   "outputs": [
    {
     "data": {
      "text/plain": [
       "array([1, 2, 2, 3, 1, 3, 1, 2, 0, 0, 1, 2, 1, 2, 0, 2, 0, 1, 2, 1, 4, 2,\n",
       "       4, 0, 0, 4, 2, 1, 1, 0, 2, 2, 4, 1, 3, 3, 2, 2, 2, 4, 2, 4, 0, 4,\n",
       "       4, 2, 2, 0, 0, 0, 4, 1, 1, 0, 4, 0, 0, 4, 1, 4, 2, 0, 0, 0, 0, 0,\n",
       "       1, 1, 1, 0, 4, 0, 0, 1, 3, 3, 2, 3, 2, 1, 0, 4, 0, 3, 0, 1, 2, 3,\n",
       "       4, 3, 3, 1, 0, 1, 0, 0, 2, 2, 1, 2, 4, 1, 0, 2, 0, 1, 3, 1, 4, 4,\n",
       "       0, 0, 3, 4, 2, 1, 0, 2, 1, 0, 1, 4, 1, 1, 4, 3, 4, 2, 1, 2, 1, 4,\n",
       "       0, 3, 2, 1, 0, 4, 0, 1, 2, 0, 1, 1, 4, 0, 0, 1, 0, 4, 4, 4, 4, 0,\n",
       "       0, 4, 4, 2, 1, 0, 2, 3, 4, 0, 0, 1, 0, 0, 4, 1, 1, 4, 0, 2, 2, 4,\n",
       "       2, 0, 2, 0, 1, 0, 2, 3, 1, 1, 4, 3, 1, 2, 1, 4, 0, 4, 1, 0, 1, 3,\n",
       "       1, 4])"
      ]
     },
     "execution_count": 2,
     "metadata": {},
     "output_type": "execute_result"
    }
   ],
   "source": [
    "import numpy as np\n",
    "from scipy.special import softmax\n",
    "\n",
    "RNG = np.random.default_rng(seed=0)\n",
    "\n",
    "n, r, p = 200, 10, 100\n",
    "x = RNG.multivariate_normal(mean=np.zeros(p), cov=np.eye(p), size=n)\n",
    "\n",
    "k = 5\n",
    "beta_prime = RNG.multivariate_normal(mean=np.zeros(r), cov=np.eye(r), size=k)\n",
    "relevant = RNG.choice(p, r, replace=False)\n",
    "beta = np.zeros(shape=(k,p))\n",
    "beta[:, relevant] = beta_prime\n",
    "probs = softmax(x.dot(beta.T), axis=1)\n",
    "y = np.array([RNG.multinomial(1, probs[i]) for i in range(n)])\n",
    "_, y = np.nonzero(y)\n",
    "y"
   ]
  },
  {
   "cell_type": "code",
   "execution_count": 3,
   "metadata": {},
   "outputs": [
    {
     "data": {
      "text/plain": [
       "array([97, 70, 47,  8,  4, 11, 39, 46, 59, 94])"
      ]
     },
     "execution_count": 3,
     "metadata": {},
     "output_type": "execute_result"
    }
   ],
   "source": [
    "relevant"
   ]
  },
  {
   "cell_type": "code",
   "execution_count": 12,
   "metadata": {},
   "outputs": [],
   "source": [
    "from collections import defaultdict\n",
    "from scipy.stats import entropy \n",
    "\n",
    "def incremental_entropy(h_old, n, c_old, c_new):\n",
    "    delta = c_new - c_old\n",
    "    if n == 0 or n == -delta: # old or new histogram empty\n",
    "        return 0.0\n",
    "    else:\n",
    "        new_term = c_new*np.log(c_new) if c_new > 0 else 0\n",
    "        old_term = c_old*np.log(c_old) if c_old > 0 else 0\n",
    "        return np.log(n+delta)-(new_term + n*(np.log(n)-h_old) - old_term)/(n+delta)\n",
    "\n",
    "class Binning2:\n",
    "\n",
    "    @staticmethod\n",
    "    def trivial(x, y):\n",
    "        n, _ = x.shape\n",
    "        k = len(np.unique(y))\n",
    "        # print('k', k)\n",
    "        bins = np.zeros(n, dtype=int)\n",
    "        max_bin = 0\n",
    "        counts =  defaultdict(int) # np.zeros(n, dtype=int)\n",
    "        counts[0] = n\n",
    "        y_counts = defaultdict(lambda : np.zeros(k, int)) # np.zeros(shape=(n, k), dtype=int)\n",
    "        _, y_counts[0] = np.unique(y, return_counts=True)\n",
    "        cond_entr = defaultdict(float) # np.zeros(n)\n",
    "        cond_entr[0] = entropy(y_counts[0], base=np.e)\n",
    "        return Binning2(x, y, bins, max_bin, counts, y_counts, cond_entr, cond_entr[0], 1)\n",
    "    \n",
    "    @staticmethod\n",
    "    def from_assignment(x, y, bins):\n",
    "        binning = Binning2.trivial(x, y)\n",
    "        for i, dest in enumerate(bins):\n",
    "            binning.move(i, dest)\n",
    "        return binning\n",
    "\n",
    "    def __init__(self, x, y, bins, max_bin, counts, y_counts, cond_entr, mean_cond_entr, non_empty_bin_count):\n",
    "        n, _ = x.shape\n",
    "        self.n = n\n",
    "        self.x = x\n",
    "        self.y = y\n",
    "        self.bins = bins\n",
    "        self.max_bin = max_bin\n",
    "        self.counts = counts\n",
    "        self.y_counts = y_counts\n",
    "        self.cond_entr = cond_entr\n",
    "        self.mean_cond_entr = mean_cond_entr\n",
    "        self.non_empty_bin_count = non_empty_bin_count\n",
    "\n",
    "    def move(self, i, dest):\n",
    "        orig = self.bins[i]\n",
    "        if orig == dest: \n",
    "            return\n",
    "        \n",
    "        self.bins[i] = dest\n",
    "        c = y[i]\n",
    "        self.mean_cond_entr = self.mean_cond_entr - self.counts[orig]*self.cond_entr[orig]/self.n - self.counts[dest]*self.cond_entr[dest]/self.n\n",
    "        self.counts[orig] -= 1\n",
    "        self.counts[dest] += 1\n",
    "        self.non_empty_bin_count = self.non_empty_bin_count + (self.counts[dest] == 1) - (self.counts[orig] == 0)\n",
    "        self.y_counts[orig][c] -= 1\n",
    "        self.y_counts[dest][c] += 1\n",
    "        self.cond_entr[orig] = incremental_entropy(self.cond_entr[orig], self.counts[orig]+1, self.y_counts[orig][c]+1, self.y_counts[orig][c])\n",
    "        self.cond_entr[dest] = incremental_entropy(self.cond_entr[dest], self.counts[dest]-1, self.y_counts[dest][c]-1, self.y_counts[dest][c])\n",
    "        self.mean_cond_entr = self.mean_cond_entr + self.counts[orig]*self.cond_entr[orig]/self.n + self.counts[dest]*self.cond_entr[dest]/self.n\n",
    "\n",
    "    def apply_cut_off(self, l, order):\n",
    "        # TODO: remove code duplication\n",
    "        split_off_bins = {}\n",
    "\n",
    "        for i in range(l+1):\n",
    "            j = order[i]\n",
    "            b = self.bins[j]\n",
    "            if b not in split_off_bins:\n",
    "                self.max_bin += 1\n",
    "                split_off_bins[b] = self.max_bin\n",
    "            _b = split_off_bins[b]\n",
    "            self.move(j, _b)\n",
    "\n",
    "    def best_cut_off(self, order, obj):\n",
    "        _max_bin = self.max_bin\n",
    "        split_off_bins = {}\n",
    "        origins = np.zeros(n, dtype=int)\n",
    "\n",
    "        obj_star = float('inf')\n",
    "        i_star = -1\n",
    "        # forward\n",
    "        for i in range(self.n):\n",
    "            j = order[i]\n",
    "            b = self.bins[j]\n",
    "            if b not in split_off_bins:\n",
    "                self.max_bin += 1\n",
    "                split_off_bins[b] = self.max_bin\n",
    "            _b = split_off_bins[b]\n",
    "            origins[i] = b\n",
    "            self.move(j, _b)\n",
    "            obj_value = obj(self)\n",
    "            if obj_value < obj_star:\n",
    "                i_star, obj_star = i, obj_value\n",
    "        \n",
    "        # rewind\n",
    "        for i in range(self.n-1, -1, -1):\n",
    "            j = order[i]\n",
    "            self.move(j, origins[i])\n",
    "        self.max_bin = _max_bin\n",
    "\n",
    "        return i_star, obj_star\n",
    "        # return i_star, mean_cond_entr_star"
   ]
  },
  {
   "cell_type": "code",
   "execution_count": 13,
   "metadata": {},
   "outputs": [],
   "source": [
    "from scipy.stats import chi2\n",
    "\n",
    "def cond_entr_obj(binning):\n",
    "    return binning.mean_cond_entr\n",
    "\n",
    "\n",
    "class VariableSelection:\n",
    "\n",
    "    def __init__(self, delta=0.05, multiple_cuts_per_var=True, verbose=False):\n",
    "        self.delta = delta\n",
    "        self.multiple_cuts_per_var = multiple_cuts_per_var\n",
    "        self.verbose = verbose\n",
    "\n",
    "    def fit(self, x, y):\n",
    "        binning = Binning2.trivial(x, y)\n",
    "        orders = np.argsort(x, axis=0)\n",
    "\n",
    "        self.n_, self.p_ = x.shape\n",
    "        self.k_ = len(np.unique(y))\n",
    "        \n",
    "        selected = np.zeros(self.p_, bool)\n",
    "        t = 0\n",
    "\n",
    "        while True:\n",
    "            j_star, i_star, obj_star = -1, -1, float('inf')\n",
    "            for j in range(p):\n",
    "                if selected[j] and not self.multiple_cuts_per_var:\n",
    "                    continue\n",
    "                i_j_star, obj_j_star = binning.best_cut_off(orders[:, j], cond_entr_obj)\n",
    "                if obj_j_star < obj_star:\n",
    "                    j_star, i_star, obj_star = j, i_j_star, obj_j_star\n",
    "            \n",
    "            cond_ent_old = binning.mean_cond_entr\n",
    "            params_old = binning.non_empty_bin_count\n",
    "            binning.apply_cut_off(i_star, orders[:, j_star])\n",
    "            cond_entr_new = binning.mean_cond_entr\n",
    "            params_new = binning.non_empty_bin_count\n",
    "            p_value = 1 - chi2.cdf(2*self.n_*(cond_ent_old-cond_entr_new), (self.k_-1)*(params_new-params_old))\n",
    "            # print(cond_ent_old, cond_entr_new, p_value)\n",
    "\n",
    "            correction = (self.n_*self.p_-t) if self.multiple_cuts_per_var else (self.n_*(self.p_-t))\n",
    "            if p_value <= self.delta / correction:\n",
    "                selected[j_star] = True\n",
    "                if self.verbose: print('.', end='')\n",
    "            else:\n",
    "                break\n",
    "            t += 1\n",
    "        \n",
    "        self.selected_ = np.flatnonzero(selected)\n",
    "        return self\n",
    "\n",
    "    def transform(self, x, y):\n",
    "        return x[:, self.selected_], y\n",
    "    \n",
    "    def fit_transform(self, x, y):\n",
    "        return self.fit(x, y).transform(x, y)\n",
    "\n"
   ]
  },
  {
   "cell_type": "code",
   "execution_count": 15,
   "metadata": {},
   "outputs": [
    {
     "name": "stdout",
     "output_type": "stream",
     "text": [
      "....."
     ]
    },
    {
     "data": {
      "text/plain": [
       "<__main__.VariableSelection at 0x138f22e80>"
      ]
     },
     "execution_count": 15,
     "metadata": {},
     "output_type": "execute_result"
    }
   ],
   "source": [
    "var_selection = VariableSelection(0.05, verbose=True)\n",
    "var_selection.fit(x, y)"
   ]
  },
  {
   "cell_type": "code",
   "execution_count": 16,
   "metadata": {},
   "outputs": [
    {
     "data": {
      "text/plain": [
       "array([ 1,  3,  4,  9, 14])"
      ]
     },
     "execution_count": 16,
     "metadata": {},
     "output_type": "execute_result"
    }
   ],
   "source": [
    "var_selection.selected_"
   ]
  },
  {
   "cell_type": "code",
   "execution_count": 17,
   "metadata": {},
   "outputs": [
    {
     "data": {
      "text/plain": [
       "array([4])"
      ]
     },
     "execution_count": 17,
     "metadata": {},
     "output_type": "execute_result"
    }
   ],
   "source": [
    "np.intersect1d(relevant, var_selection.selected_)"
   ]
  },
  {
   "cell_type": "code",
   "execution_count": 18,
   "metadata": {},
   "outputs": [
    {
     "name": "stdout",
     "output_type": "stream",
     "text": [
      "n:  50\n",
      "||||||||.|.|.|.|||||||.|.|\n",
      "n:  100\n",
      "..|..|.|.|.|.|.|.|.|.|..|..|..|..|.|.|..|..|.|.|\n",
      "n:  200\n",
      "...|...|...|...|...|...|...|...|..|..|...|...|....|...|...|...|...|...|...|...|\n",
      "n:  400\n",
      "....|....|....|....|....|....|....|....|....|....|....|....|....|....|....|....|....|....|....|....|\n",
      "n:  800\n",
      "......|......|.....|.....|.....|.....|......|......|.....|.....|......|......|.....|.....|.....|.....|.....|.....|.....|.....|\n"
     ]
    }
   ],
   "source": [
    "import numpy as np\n",
    "from scipy.special import softmax\n",
    "from sklearn.base import clone\n",
    "\n",
    "class Problem:\n",
    "\n",
    "    @staticmethod\n",
    "    def randomSparseProblem(p, r, k, random_state=None):\n",
    "        RNG = np.random.default_rng(seed=random_state)\n",
    "        beta_prime = RNG.multivariate_normal(mean=np.zeros(r), cov=np.eye(r), size=k)\n",
    "        relevant = RNG.choice(p, r, replace=False)\n",
    "        beta = np.zeros(shape=(k,p))\n",
    "        beta[:, relevant] = beta_prime\n",
    "        return Problem(beta, relevant)\n",
    "\n",
    "    def __init__(self, beta, relevant):\n",
    "        self.beta = beta\n",
    "        self.relevant = relevant\n",
    "        self.k, self.p = self.beta.shape\n",
    "\n",
    "    def rvs(self, n, random_state=None):\n",
    "        RNG = np.random.default_rng(seed=random_state)\n",
    "        x = RNG.multivariate_normal(mean=np.zeros(self.p), cov=np.eye(self.p), size=n)\n",
    "        probs = softmax(x.dot(self.beta.T), axis=1)\n",
    "        y = np.array([RNG.multinomial(1, probs[i]) for i in range(n)])\n",
    "        _, y = np.nonzero(y)\n",
    "        return x, y\n",
    "\n",
    "k = 5\n",
    "r, p = 10, 50\n",
    "\n",
    "reps = 10\n",
    "ns = np.array([50, 100, 200, 400, 800])\n",
    "names = ['multiple cuts', 'single cut']\n",
    "methods = [VariableSelection(0.05, verbose=True), VariableSelection(0.05, False, verbose=True)]\n",
    "\n",
    "prec = np.zeros(shape=(len(methods), reps, len(ns)))\n",
    "rec = np.zeros(shape=(len(methods), reps, len(ns)))\n",
    "\n",
    "problem = Problem.randomSparseProblem(p, r, k, random_state=0)\n",
    "for j, n in enumerate(ns):\n",
    "    print('n: ',n)\n",
    "    for rep in range(reps):\n",
    "        x, y = problem.rvs(n)\n",
    "        for i, method in enumerate(methods):\n",
    "            selection = clone(method, safe=False)\n",
    "            selection.fit(x, y) # VariableSelection(0.05, verbose=True).fit(x, y)\n",
    "            intersection = np.intersect1d(selection.selected_, problem.relevant)\n",
    "            precision = len(intersection)/len(selection.selected_) if len(selection.selected_)>0 else 1.0\n",
    "            recall = len(intersection)/len(problem.relevant)\n",
    "            prec[i, rep, j] = precision\n",
    "            rec[i, rep, j] = recall\n",
    "            print('|', end='')\n",
    "    print()\n"
   ]
  },
  {
   "cell_type": "code",
   "execution_count": 19,
   "metadata": {},
   "outputs": [
    {
     "data": {
      "image/png": "[encoded data removed]",
      "text/plain": [
       "<Figure size 576x288 with 2 Axes>"
      ]
     },
     "metadata": {
      "needs_background": "light"
     },
     "output_type": "display_data"
    }
   ],
   "source": [
    "from matplotlib import pyplot as plt\n",
    "\n",
    "_, axs = plt.subplots(1, 2, figsize=(8, 4), tight_layout=True, sharey=True)\n",
    "for i in range(len(methods)):\n",
    "    axs[0].errorbar(ns, rec[i, :, :].mean(axis=0), 1.96*rec[i, :, :].std(axis=0)/ns**0.5, label=names[i])\n",
    "    axs[1].errorbar(ns, prec[i, :, :].mean(axis=0), 1.96*prec[i, :, :].std(axis=0)/ns**0.5, label=names[i])\n",
    "axs[0].set_xlabel('$n$')\n",
    "axs[1].set_xlabel('$n$')\n",
    "axs[0].set_title('recall')\n",
    "axs[1].set_title('precision')\n",
    "axs[0].legend()\n",
    "plt.show()"
   ]
  }
 ],
 "metadata": {
  "kernelspec": {
   "display_name": "Python 3",
   "language": "python",
   "name": "python3"
  },
  "language_info": {
   "codemirror_mode": {
    "name": "ipython",
    "version": 3
   },
   "file_extension": ".py",
   "mimetype": "text/x-python",
   "name": "python",
   "nbconvert_exporter": "python",
   "pygments_lexer": "ipython3",
   "version": "3.9.10"
  },
  "orig_nbformat": 4,
  "vscode": {
   "interpreter": {
    "hash": "aee8b7b246df8f9039afb4144a1f6fd8d2ca17a180786b69acc140d282b71a49"
   }
  }
 },
 "nbformat": 4,
 "nbformat_minor": 2
}
