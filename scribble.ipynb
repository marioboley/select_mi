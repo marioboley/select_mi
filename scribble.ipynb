{
 "cells": [
  {
   "attachments": {},
   "cell_type": "markdown",
   "metadata": {},
   "source": [
    "For the distribution induced by a count vector $\\mathbf{c} \\in \\mathbb{N}^k$ with $n=\\sum_{i=1}^k c_i$ we can write the entropy function as\n",
    "\\begin{align*}\n",
    "\\mathrm{H}(\\mathbf{c}) &= - \\sum_{i=1}^k \\frac{c_i}{n} \\log \\frac{c_i}{n}\\\\\n",
    "&=\\log n - \\frac{1}{n} \\sum_{i=1}^k c_i \\log c_i\n",
    "\\end{align*}\n",
    "where as usual we define $0 \\log 0 = 0$.\n",
    "By expressing the sum over counts as\n",
    "\\begin{equation*}\n",
    "\\sum_{i=1}^k c_i \\log c_i = n(\\log n - \\mathrm{H}(\\mathbf{c}))\n",
    "\\end{equation*}\n",
    "we can derive the following incremental formula for the entropy of a count vector $\\mathbf{c}+\\delta\\mathbf{e}_i$:\n",
    "\\begin{equation*}\n",
    "\\mathrm{H}(\\mathbf{c} + \\delta\\mathbf{e}_i) =\n",
    "\\begin{cases}\n",
    "0 &, \\text{ if } n = 0 \\text{ or } n = -\\delta\\\\\n",
    "\\log(n + \\delta) - ((c_i+\\delta)\\log (c_i+\\delta) + n(\\log n - H(\\mathbf{c})) - c_i \\log c_i )/(n+\\delta) &, \\text{ otherwise}\\\\\n",
    "\\end{cases}\n",
    "\\end{equation*}"
   ]
  },
  {
   "cell_type": "code",
   "execution_count": 257,
   "metadata": {},
   "outputs": [],
   "source": [
    "import numpy as np\n",
    "\n",
    "def entropy_from_counts(counts):\n",
    "    n = sum(counts)\n",
    "    return np.log(n) - sum(counts*np.log(counts))/n\n",
    "\n",
    "def incremental_entropy(h_old, n, c_old, c_new):\n",
    "    delta = c_new - c_old\n",
    "    if n == 0 or n == -delta: # old or new histogram empty\n",
    "        return 0.0\n",
    "    else:\n",
    "        new_term = c_new*np.log(c_new) if c_new > 0 else 0\n",
    "        old_term = c_old*np.log(c_old) if c_old > 0 else 0\n",
    "        return np.log(n+delta)-(new_term + n*(np.log(n)-h_old) - old_term)/(n+delta)\n"
   ]
  },
  {
   "cell_type": "code",
   "execution_count": 258,
   "metadata": {},
   "outputs": [
    {
     "name": "stdout",
     "output_type": "stream",
     "text": [
      "testing: [1 1 1 1] -> [2 1 1 1]\n",
      "1.3862943611198906\n",
      "1.3321790402101223\n",
      "1.3321790402101221\n",
      "True\n",
      "\n",
      "testing: [1 1 1 1] -> [0 1 1 1]\n",
      "1.3862943611198906\n",
      "1.0986122886681096\n",
      "1.0986122886681098\n",
      "True\n",
      "\n",
      "testing: [0 1 1 1] -> [1 1 1 1]\n",
      "1.0986122886681096\n",
      "1.3862943611198906\n",
      "1.3862943611198904\n",
      "True\n",
      "\n"
     ]
    }
   ],
   "source": [
    "from scipy.stats import entropy \n",
    "\n",
    "def test(counts, delta, i):\n",
    "    _counts = counts.copy()\n",
    "    _counts[i] += delta\n",
    "    print('testing:', counts, '->', _counts)\n",
    "\n",
    "    n = sum(counts)\n",
    "    ent = entropy(counts, base=np.e)\n",
    "    _ent = entropy(_counts, base=np.e)\n",
    "    incr = incremental_entropy(ent, n, counts[i], _counts[i])\n",
    "\n",
    "    print(ent)    \n",
    "    print(_ent)\n",
    "    print(incr)\n",
    "    print(np.isclose(_ent,incr))\n",
    "    print()\n",
    "\n",
    "t1 = np.array([1, 1, 1, 1])\n",
    "t2 = np.array([0, 1, 1, 1])\n",
    "    \n",
    "test(t1, 1, 0)\n",
    "test(t1, -1, 0)\n",
    "test(t2, 1, 0)\n"
   ]
  },
  {
   "cell_type": "code",
   "execution_count": 259,
   "metadata": {},
   "outputs": [
    {
     "name": "stdout",
     "output_type": "stream",
     "text": [
      "testing: [1 0 0 0] -> [2 0 0 0]\n",
      "0.0\n",
      "0.0\n",
      "0.0\n",
      "True\n",
      "\n",
      "testing: [1 0 0 0] -> [1 1 0 0]\n",
      "0.0\n",
      "0.6931471805599453\n",
      "0.6931471805599453\n",
      "True\n",
      "\n",
      "testing: [1 0 0 0] -> [0 0 0 0]\n",
      "0.0\n",
      "nan\n",
      "0.0\n",
      "False\n",
      "\n"
     ]
    }
   ],
   "source": [
    "t3 = np.array([1, 0, 0, 0])\n",
    "test(t3, 1, 0)\n",
    "test(t3, 1, 1)\n",
    "test(t3, -1, 0)"
   ]
  },
  {
   "cell_type": "code",
   "execution_count": 260,
   "metadata": {},
   "outputs": [
    {
     "name": "stdout",
     "output_type": "stream",
     "text": [
      "testing: [0 1 0 0 0] -> [0 2 0 0 0]\n",
      "0.0\n",
      "0.0\n",
      "0.0\n",
      "True\n",
      "\n"
     ]
    }
   ],
   "source": [
    "t4 = np.array([0, 1, 0, 0, 0])\n",
    "test(t4, 1, 1)"
   ]
  },
  {
   "cell_type": "code",
   "execution_count": 261,
   "metadata": {},
   "outputs": [
    {
     "name": "stdout",
     "output_type": "stream",
     "text": [
      "testing: [0 2 0 0 0] -> [0 2 0 1 0]\n",
      "0.0\n",
      "0.6365141682948128\n",
      "0.636514168294813\n",
      "True\n",
      "\n"
     ]
    }
   ],
   "source": [
    "t4 = np.array([0, 2, 0, 0, 0])\n",
    "test(t4, 1, 3)"
   ]
  },
  {
   "cell_type": "code",
   "execution_count": 262,
   "metadata": {},
   "outputs": [
    {
     "name": "stdout",
     "output_type": "stream",
     "text": [
      "testing: [1 2 1 0 1] -> [1 2 1 0 1]\n",
      "1.3321790402101223\n",
      "1.3321790402101223\n",
      "1.3321790402101223\n",
      "True\n",
      "\n"
     ]
    }
   ],
   "source": [
    "t5 = np.array([1, 2, 1, 0, 1])\n",
    "test(t5, 0, 0)"
   ]
  },
  {
   "cell_type": "code",
   "execution_count": 263,
   "metadata": {},
   "outputs": [
    {
     "name": "stdout",
     "output_type": "stream",
     "text": [
      "testing: [0 0 0 0 0] -> [0 1 0 0 0]\n",
      "nan\n",
      "0.0\n",
      "0.0\n",
      "True\n",
      "\n",
      "0.0\n",
      "testing: [0 2 0 0 0] -> [0 3 0 0 0]\n",
      "0.0\n",
      "0.0\n",
      "0.0\n",
      "True\n",
      "\n"
     ]
    },
    {
     "data": {
      "text/plain": [
       "(0.0, 0.0, 0.636514168294813)"
      ]
     },
     "execution_count": 263,
     "metadata": {},
     "output_type": "execute_result"
    }
   ],
   "source": [
    "\n",
    "counts = np.zeros(5, dtype=int)\n",
    "test(counts, 1, 1)\n",
    "counts[1] = 1\n",
    "h1 = incremental_entropy(0, 0, 0, 1)\n",
    "print(h1)\n",
    "counts[1] = 2\n",
    "test(counts, 1, 1)\n",
    "h2 = incremental_entropy(h1, 1, 1, 2)\n",
    "counts[3] = 1\n",
    "h3 = incremental_entropy(h2, 2, 0, 1)\n",
    "h1, h2, h3"
   ]
  },
  {
   "cell_type": "code",
   "execution_count": 283,
   "metadata": {},
   "outputs": [
    {
     "data": {
      "text/plain": [
       "array([1, 2, 2, 3, 1, 3, 1, 2, 0, 0, 1, 2, 1, 2, 0, 2, 0, 1, 2, 1, 4, 2,\n",
       "       4, 0, 0, 4, 2, 1, 1, 0, 2, 2, 4, 1, 3, 3, 2, 2, 2, 4, 2, 4, 0, 4,\n",
       "       4, 2, 2, 0, 0, 0, 4, 1, 1, 0, 4, 0, 0, 4, 1, 4, 2, 0, 0, 0, 0, 0,\n",
       "       1, 1, 1, 0, 4, 0, 0, 1, 3, 3, 2, 3, 2, 1, 0, 4, 0, 3, 0, 1, 2, 3,\n",
       "       4, 3, 3, 1, 0, 1, 0, 0, 2, 2, 1, 2, 4, 1, 0, 2, 0, 1, 3, 1, 4, 4,\n",
       "       0, 0, 3, 4, 2, 1, 0, 2, 1, 0, 1, 4, 1, 1, 4, 3, 4, 2, 1, 2, 1, 4,\n",
       "       0, 3, 2, 1, 0, 4, 0, 1, 2, 0, 1, 1, 4, 0, 0, 1, 0, 4, 4, 4, 4, 0,\n",
       "       0, 4, 4, 2, 1, 0, 2, 3, 4, 0, 0, 1, 0, 0, 4, 1, 1, 4, 0, 2, 2, 4,\n",
       "       2, 0, 2, 0, 1, 0, 2, 3, 1, 1, 4, 3, 1, 2, 1, 4, 0, 4, 1, 0, 1, 3,\n",
       "       1, 4])"
      ]
     },
     "execution_count": 283,
     "metadata": {},
     "output_type": "execute_result"
    }
   ],
   "source": [
    "import numpy as np\n",
    "from scipy.special import softmax\n",
    "\n",
    "RNG = np.random.default_rng(seed=0)\n",
    "\n",
    "n, r, p = 200, 10, 100\n",
    "x = RNG.multivariate_normal(mean=np.zeros(p), cov=np.eye(p), size=n)\n",
    "\n",
    "k = 5\n",
    "beta_prime = RNG.multivariate_normal(mean=np.zeros(r), cov=np.eye(r), size=k)\n",
    "relevant = RNG.choice(p, r, replace=False)\n",
    "beta = np.zeros(shape=(k,p))\n",
    "beta[:, relevant] = beta_prime\n",
    "probs = softmax(x.dot(beta.T), axis=1)\n",
    "y = np.array([RNG.multinomial(1, probs[i]) for i in range(n)])\n",
    "_, y = np.nonzero(y)\n",
    "y"
   ]
  },
  {
   "cell_type": "code",
   "execution_count": 278,
   "metadata": {},
   "outputs": [
    {
     "data": {
      "text/plain": [
       "array([97, 70, 47,  8,  4, 11, 39, 46, 59, 94])"
      ]
     },
     "execution_count": 278,
     "metadata": {},
     "output_type": "execute_result"
    }
   ],
   "source": [
    "relevant"
   ]
  },
  {
   "cell_type": "code",
   "execution_count": 282,
   "metadata": {},
   "outputs": [
    {
     "data": {
      "text/plain": [
       "array([ 0.32359472,  0.0314441 , -0.17067908, -1.18874632, -0.49146127])"
      ]
     },
     "execution_count": 282,
     "metadata": {},
     "output_type": "execute_result"
    }
   ],
   "source": [
    "beta_prime[:, 0]"
   ]
  },
  {
   "cell_type": "code",
   "execution_count": 280,
   "metadata": {},
   "outputs": [
    {
     "data": {
      "text/plain": [
       "array([ 0.32359472,  0.0314441 , -0.17067908, -1.18874632, -0.49146127])"
      ]
     },
     "execution_count": 280,
     "metadata": {},
     "output_type": "execute_result"
    }
   ],
   "source": [
    "beta[:, 97]"
   ]
  },
  {
   "cell_type": "code",
   "execution_count": 16,
   "metadata": {},
   "outputs": [
    {
     "data": {
      "text/plain": [
       "array([0, 0, 0, 0, 0, 0, 0, 0, 0, 0, 0, 0, 0, 0, 0, 0, 0, 0, 0, 0, 0, 0,\n",
       "       0, 0, 0, 0, 0, 0, 0, 0, 0, 0, 0, 0, 0, 0, 0, 0, 0, 0, 0, 0, 0, 0,\n",
       "       0, 0, 0, 0, 0, 0, 1, 1, 1, 1, 1, 1, 1, 1, 1, 1, 1, 1, 1, 1, 1, 1,\n",
       "       1, 1, 1, 1, 1, 1, 1, 1, 1, 1, 1, 1, 1, 1, 1, 1, 1, 1, 1, 1, 1, 1,\n",
       "       1, 1, 1, 1, 1, 1, 1, 1, 1, 1, 1, 1])"
      ]
     },
     "execution_count": 16,
     "metadata": {},
     "output_type": "execute_result"
    }
   ],
   "source": [
    "bins = np.array([0]*50+[1]*50)\n",
    "bins"
   ]
  },
  {
   "cell_type": "code",
   "execution_count": 167,
   "metadata": {},
   "outputs": [],
   "source": [
    "import numpy as np\n",
    "from scipy.stats import entropy\n",
    "from scipy.special import rel_entr\n",
    "\n",
    "class Binning:\n",
    "\n",
    "    @staticmethod\n",
    "    def trivial(x, y):\n",
    "        n, _ = x.shape\n",
    "        k = len(np.unique(y))\n",
    "        bins = np.zeros(n, dtype=int)\n",
    "        max_bin = 0\n",
    "        counts = np.zeros(n, dtype=int)\n",
    "        counts[0] = n\n",
    "        y_counts = np.zeros(shape=(n, k), dtype=int)\n",
    "        _, y_counts[0, :] = np.unique(y, return_counts=True)\n",
    "        cond_entr = np.zeros(n)\n",
    "        cond_entr[0] = entropy(y_counts[0], base=2)\n",
    "        return Binning(x, y, bins, max_bin, counts, y_counts, cond_entr, cond_entr[0])\n",
    "    \n",
    "    @staticmethod\n",
    "    def from_assignment(x, y, bins):\n",
    "        n, _ = x.shape\n",
    "        k = len(np.unique(y))\n",
    "        max_bin = np.unique(bins)[-1]\n",
    "        counts = np.zeros(n, dtype=int)\n",
    "        _, counts[:max_bin+1] = np.unique(bins, return_counts=True)\n",
    "        y_counts = np.zeros(shape=(n, k), dtype=int)\n",
    "        for b in range(max_bin+1):\n",
    "            _, y_counts[b, :] = np.unique(y[bins == b], return_counts=True)\n",
    "        cond_entr = np.zeros(n)\n",
    "        cond_entr[:max_bin+1] = entropy(y_counts[:max_bin+1], axis=1, base=2)\n",
    "        mean_cond_entr = sum(counts[:max_bin+1]*cond_entr[:max_bin+1])/n\n",
    "        return Binning(x, y, bins, max_bin, counts, y_counts, cond_entr, mean_cond_entr)\n",
    "\n",
    "    def __init__(self, x, y, bins, max_bin, counts, y_counts, cond_entr, mean_cond_entr):\n",
    "        n, _ = x.shape\n",
    "        self.n = n\n",
    "        self.x = x\n",
    "        self.y = y\n",
    "        self.bins = bins\n",
    "        self.max_bin = max_bin\n",
    "        self.counts = counts\n",
    "        self.y_counts = y_counts\n",
    "        self.cond_entr = cond_entr\n",
    "        self.mean_cond_entr = mean_cond_entr\n",
    "\n",
    "    def move(self, i, dest):\n",
    "        orig = self.bins[i]\n",
    "        if orig == dest: \n",
    "            return\n",
    "        \n",
    "        self.bins[i] = dest\n",
    "        c = y[i]\n",
    "        self.mean_cond_entr = self.mean_cond_entr - self.counts[orig]*self.cond_entr[orig]/self.n - self.counts[dest]*self.cond_entr[dest]/self.n\n",
    "        self.counts[orig] -= 1\n",
    "        self.counts[dest] += 1\n",
    "        # self.non_empty_bin_count = self.non_empty_bin_count + (self.counts[dest] == 1) - self.counts[orig] == 0\n",
    "        self.y_counts[orig, c] -= 1\n",
    "        self.y_counts[dest, c] += 1\n",
    "        self.cond_entr[orig] = incremental_entropy(self.cond_entr[orig], self.counts[orig]+1, self.y_counts[orig, c]+1, self.y_counts[orig, c])\n",
    "        self.cond_entr[dest] = incremental_entropy(self.cond_entr[dest], self.counts[dest]-1, self.y_counts[dest, c]-1, self.y_counts[dest, c])\n",
    "        self.mean_cond_entr = self.mean_cond_entr + self.counts[orig]*self.cond_entr[orig]/self.n + self.counts[dest]*self.cond_entr[dest]/self.n\n",
    "\n",
    "\n",
    "    def best_cut_off(self, order):\n",
    "        _max_bin = self.max_bin\n",
    "        split_off_bins = np.ones(n, dtype=int)*-1\n",
    "        origins = np.zeros(n, dtype=int)\n",
    "\n",
    "        mean_cond_entr_star = self.mean_cond_entr\n",
    "        i_star = -1\n",
    "        # forward\n",
    "        for i in range(self.n):\n",
    "            j = order[i]\n",
    "            b = self.bins[j]\n",
    "            if split_off_bins[b] == -1:\n",
    "                self.max_bin += 1\n",
    "                split_off_bins[b] = self.max_bin\n",
    "            _b = split_off_bins[b]\n",
    "            origins[i] = b\n",
    "            self.move(j, _b)\n",
    "            if self.mean_cond_entr < mean_cond_entr_star:\n",
    "                i_star, mean_cond_entr_star = i, self.mean_cond_entr\n",
    "        \n",
    "        # rewind\n",
    "        for i in range(self.n-1, -1, -1):\n",
    "            j = order[i]\n",
    "            self.move(j, origins[i])\n",
    "        self.max_bin = _max_bin\n",
    "\n",
    "        return i_star, mean_cond_entr_star\n",
    "\n",
    "\n",
    "bins = np.array([0]*50+[1]*50)\n",
    "binning = Binning.from_assignment(x, y, bins)\n"
   ]
  },
  {
   "cell_type": "code",
   "execution_count": 157,
   "metadata": {},
   "outputs": [
    {
     "data": {
      "text/plain": [
       "2.255373485851136"
      ]
     },
     "execution_count": 157,
     "metadata": {},
     "output_type": "execute_result"
    }
   ],
   "source": [
    "__binning = Binning.trivial(x, y)\n",
    "__binning.move(0, 1)\n",
    "__binning.cond_entr[0]\n"
   ]
  },
  {
   "cell_type": "code",
   "execution_count": 158,
   "metadata": {},
   "outputs": [
    {
     "data": {
      "text/plain": [
       "2.255373485851135"
      ]
     },
     "execution_count": 158,
     "metadata": {},
     "output_type": "execute_result"
    }
   ],
   "source": [
    "entropy_from_counts(__binning.y_counts[0])"
   ]
  },
  {
   "cell_type": "code",
   "execution_count": null,
   "metadata": {},
   "outputs": [],
   "source": []
  },
  {
   "cell_type": "code",
   "execution_count": 134,
   "metadata": {},
   "outputs": [
    {
     "data": {
      "text/plain": [
       "array([2.25532739, 2.2022618 ])"
      ]
     },
     "execution_count": 134,
     "metadata": {},
     "output_type": "execute_result"
    }
   ],
   "source": [
    "binning.cond_entr[:2]"
   ]
  },
  {
   "cell_type": "code",
   "execution_count": 168,
   "metadata": {},
   "outputs": [
    {
     "data": {
      "text/plain": [
       "2.255327391066557"
      ]
     },
     "execution_count": 168,
     "metadata": {},
     "output_type": "execute_result"
    }
   ],
   "source": [
    "_binning = Binning.trivial(x, y)\n",
    "for i, dest in enumerate(bins):\n",
    "    # print(i, dest)\n",
    "    _binning.move(i, dest)\n",
    "    # print(_binning.cond_entr[0], entropy_from_counts(_binning.y_counts[0]), _binning.cond_entr[0] - entropy_from_counts(_binning.y_counts[0]))\n",
    "\n",
    "_binning.cond_entr[0]\n"
   ]
  },
  {
   "cell_type": "code",
   "execution_count": 141,
   "metadata": {},
   "outputs": [
    {
     "data": {
      "text/plain": [
       "50"
      ]
     },
     "execution_count": 141,
     "metadata": {},
     "output_type": "execute_result"
    }
   ],
   "source": [
    "_binning.counts[0]"
   ]
  },
  {
   "cell_type": "code",
   "execution_count": 140,
   "metadata": {},
   "outputs": [
    {
     "data": {
      "text/plain": [
       "50"
      ]
     },
     "execution_count": 140,
     "metadata": {},
     "output_type": "execute_result"
    }
   ],
   "source": [
    "binning.counts[0]"
   ]
  },
  {
   "cell_type": "code",
   "execution_count": 169,
   "metadata": {},
   "outputs": [
    {
     "data": {
      "text/plain": [
       "2.2553273910665483"
      ]
     },
     "execution_count": 169,
     "metadata": {},
     "output_type": "execute_result"
    }
   ],
   "source": [
    "entropy_from_counts(_binning.y_counts[0])"
   ]
  },
  {
   "cell_type": "code",
   "execution_count": 170,
   "metadata": {},
   "outputs": [
    {
     "data": {
      "text/plain": [
       "2.2553273910665483"
      ]
     },
     "execution_count": 170,
     "metadata": {},
     "output_type": "execute_result"
    }
   ],
   "source": [
    "binning.cond_entr[0]"
   ]
  },
  {
   "cell_type": "code",
   "execution_count": 306,
   "metadata": {},
   "outputs": [],
   "source": [
    "from collections import defaultdict\n",
    "\n",
    "class Binning2:\n",
    "\n",
    "    @staticmethod\n",
    "    def trivial(x, y):\n",
    "        n, _ = x.shape\n",
    "        k = len(np.unique(y))\n",
    "        bins = np.zeros(n, dtype=int)\n",
    "        max_bin = 0\n",
    "        counts =  defaultdict(int) # np.zeros(n, dtype=int)\n",
    "        counts[0] = n\n",
    "        y_counts = defaultdict(lambda : np.zeros(k, int)) # np.zeros(shape=(n, k), dtype=int)\n",
    "        _, y_counts[0] = np.unique(y, return_counts=True)\n",
    "        cond_entr = defaultdict(float) # np.zeros(n)\n",
    "        cond_entr[0] = entropy(y_counts[0], base=2)\n",
    "        return Binning2(x, y, bins, max_bin, counts, y_counts, cond_entr, cond_entr[0], 1)\n",
    "    \n",
    "    @staticmethod\n",
    "    def from_assignment(x, y, bins):\n",
    "        binning = Binning2.trivial(x, y)\n",
    "        for i, dest in enumerate(bins):\n",
    "            binning.move(i, dest)\n",
    "        return binning\n",
    "\n",
    "    def __init__(self, x, y, bins, max_bin, counts, y_counts, cond_entr, mean_cond_entr, non_empty_bin_count):\n",
    "        n, _ = x.shape\n",
    "        self.n = n\n",
    "        self.x = x\n",
    "        self.y = y\n",
    "        self.bins = bins\n",
    "        self.max_bin = max_bin\n",
    "        self.counts = counts\n",
    "        self.y_counts = y_counts\n",
    "        self.cond_entr = cond_entr\n",
    "        self.mean_cond_entr = mean_cond_entr\n",
    "        self.non_empty_bin_count = non_empty_bin_count\n",
    "\n",
    "    def move(self, i, dest):\n",
    "        orig = self.bins[i]\n",
    "        if orig == dest: \n",
    "            return\n",
    "        \n",
    "        self.bins[i] = dest\n",
    "        c = y[i]\n",
    "        self.mean_cond_entr = self.mean_cond_entr - self.counts[orig]*self.cond_entr[orig]/self.n - self.counts[dest]*self.cond_entr[dest]/self.n\n",
    "        self.counts[orig] -= 1\n",
    "        self.counts[dest] += 1\n",
    "        self.non_empty_bin_count = self.non_empty_bin_count + (self.counts[dest] == 1) - (self.counts[orig] == 0)\n",
    "        self.y_counts[orig][c] -= 1\n",
    "        self.y_counts[dest][c] += 1\n",
    "        self.cond_entr[orig] = incremental_entropy(self.cond_entr[orig], self.counts[orig]+1, self.y_counts[orig][c]+1, self.y_counts[orig][c])\n",
    "        self.cond_entr[dest] = incremental_entropy(self.cond_entr[dest], self.counts[dest]-1, self.y_counts[dest][c]-1, self.y_counts[dest][c])\n",
    "        self.mean_cond_entr = self.mean_cond_entr + self.counts[orig]*self.cond_entr[orig]/self.n + self.counts[dest]*self.cond_entr[dest]/self.n\n",
    "\n",
    "    def apply_cut_off(self, l, order):\n",
    "        # TODO: remove code duplication\n",
    "        split_off_bins = {}\n",
    "\n",
    "        for i in range(l+1):\n",
    "            j = order[i]\n",
    "            b = self.bins[j]\n",
    "            if b not in split_off_bins:\n",
    "                self.max_bin += 1\n",
    "                split_off_bins[b] = self.max_bin\n",
    "            _b = split_off_bins[b]\n",
    "            self.move(j, _b)\n",
    "\n",
    "    def best_cut_off(self, order, obj):\n",
    "        _max_bin = self.max_bin\n",
    "        split_off_bins = {}\n",
    "        origins = np.zeros(n, dtype=int)\n",
    "\n",
    "        obj_star = float('inf')\n",
    "        i_star = -1\n",
    "        # forward\n",
    "        for i in range(self.n):\n",
    "            j = order[i]\n",
    "            b = self.bins[j]\n",
    "            if b not in split_off_bins:\n",
    "                self.max_bin += 1\n",
    "                split_off_bins[b] = self.max_bin\n",
    "            _b = split_off_bins[b]\n",
    "            origins[i] = b\n",
    "            self.move(j, _b)\n",
    "            obj_value = obj(self)\n",
    "            if obj_value < obj_star:\n",
    "                i_star, obj_star = i, obj_value\n",
    "        \n",
    "        # rewind\n",
    "        for i in range(self.n-1, -1, -1):\n",
    "            j = order[i]\n",
    "            self.move(j, origins[i])\n",
    "        self.max_bin = _max_bin\n",
    "\n",
    "        return i_star, obj_star\n",
    "        # return i_star, mean_cond_entr_star"
   ]
  },
  {
   "cell_type": "code",
   "execution_count": 307,
   "metadata": {},
   "outputs": [],
   "source": [
    "from scipy.stats import chi2\n",
    "\n",
    "def cond_entr_obj(binning):\n",
    "    return binning.mean_cond_entr\n",
    "\n",
    "\n",
    "class VariableSelection:\n",
    "\n",
    "    def __init__(self, delta=0.05, multiple_cuts_per_var=True, verbose=False):\n",
    "        self.delta = delta\n",
    "        self.multiple_cuts_per_var = multiple_cuts_per_var\n",
    "        self.verbose = verbose\n",
    "\n",
    "    def fit(self, x, y):\n",
    "        binning = Binning2.trivial(x, y)\n",
    "        orders = np.argsort(x, axis=0)\n",
    "\n",
    "        self.n_, self.p_ = x.shape\n",
    "        selected = np.zeros(self.p_, bool)\n",
    "        t = 0\n",
    "\n",
    "        while True:\n",
    "            j_star, i_star, obj_star = -1, -1, float('inf')\n",
    "            for j in range(p):\n",
    "                if selected[j] and not self.multiple_cuts_per_var:\n",
    "                    continue\n",
    "                i_j_star, obj_j_star = binning.best_cut_off(orders[:, j], cond_entr_obj)\n",
    "                if obj_j_star < obj_star:\n",
    "                    j_star, i_star, obj_star = j, i_j_star, obj_j_star\n",
    "            \n",
    "            cond_ent_old = binning.mean_cond_entr\n",
    "            params_old = binning.non_empty_bin_count\n",
    "            binning.apply_cut_off(i_star, orders[:, j_star])\n",
    "            cond_entr_new = binning.mean_cond_entr\n",
    "            params_new = binning.non_empty_bin_count\n",
    "            p_value = 1 - chi2.cdf(2*self.n_*(cond_ent_old-cond_entr_new), params_new-params_old)\n",
    "            # print(cond_ent_old, cond_entr_new, p_value)\n",
    "\n",
    "            correction = (self.n_*self.p_-t) if self.multiple_cuts_per_var else (self.n_*(self.p_-t))\n",
    "            if p_value <= self.delta / correction:\n",
    "                selected[j_star] = True\n",
    "                if self.verbose: print('.', end='')\n",
    "            else:\n",
    "                break\n",
    "            t += 1\n",
    "        \n",
    "        self.selected_ = np.flatnonzero(selected)\n",
    "        return self\n",
    "\n",
    "    def transform(self, x, y):\n",
    "        return x[:, self.selected_], y\n",
    "    \n",
    "    def fit_transform(self, x, y):\n",
    "        return self.fit(x, y).transform(x, y)\n",
    "\n"
   ]
  },
  {
   "cell_type": "code",
   "execution_count": 308,
   "metadata": {},
   "outputs": [
    {
     "data": {
      "text/plain": [
       "<__main__.VariableSelection at 0x139f380a0>"
      ]
     },
     "execution_count": 308,
     "metadata": {},
     "output_type": "execute_result"
    }
   ],
   "source": [
    "var_selection = VariableSelection(0.05)\n",
    "var_selection.fit(x, y)"
   ]
  },
  {
   "cell_type": "code",
   "execution_count": 309,
   "metadata": {},
   "outputs": [
    {
     "data": {
      "text/plain": [
       "array([11, 19, 39, 46, 47, 70, 88, 91, 94])"
      ]
     },
     "execution_count": 309,
     "metadata": {},
     "output_type": "execute_result"
    }
   ],
   "source": [
    "var_selection.selected_"
   ]
  },
  {
   "cell_type": "code",
   "execution_count": 287,
   "metadata": {},
   "outputs": [
    {
     "data": {
      "text/plain": [
       "array([ 8, 46, 70, 94])"
      ]
     },
     "execution_count": 287,
     "metadata": {},
     "output_type": "execute_result"
    }
   ],
   "source": [
    "np.intersect1d(relevant, var_selection.selected_)"
   ]
  },
  {
   "cell_type": "code",
   "execution_count": 351,
   "metadata": {},
   "outputs": [
    {
     "name": "stdout",
     "output_type": "stream",
     "text": [
      "n:  50\n",
      "...|...|...|....|..|...|....|...|..|....|\n",
      "n:  100\n",
      ".....|.....|.....|.....|.....|.....|....|.....|.....|.....|\n",
      "n:  200\n",
      ".......|.......|......|.......|......|.......|......|........|.......|......|\n",
      "n:  400\n",
      "........|........|........|.........|........|.........|........|.........|.........|.........|\n",
      "n:  800\n",
      "..........|..........|..........|..........|...........|..........|..........|..........|..........|..........|\n",
      "n:  1600\n",
      "............|.............|............|.............|............|............|............|............|............|............|\n"
     ]
    }
   ],
   "source": [
    "import numpy as np\n",
    "from scipy.special import softmax\n",
    "from sklearn.base import clone\n",
    "\n",
    "class Problem:\n",
    "\n",
    "    @staticmethod\n",
    "    def randomSparseProblem(p, r, k, random_state=None):\n",
    "        RNG = np.random.default_rng(seed=random_state)\n",
    "        beta_prime = RNG.multivariate_normal(mean=np.zeros(r), cov=np.eye(r), size=k)\n",
    "        relevant = RNG.choice(p, r, replace=False)\n",
    "        beta = np.zeros(shape=(k,p))\n",
    "        beta[:, relevant] = beta_prime\n",
    "        return Problem(beta, relevant)\n",
    "\n",
    "    def __init__(self, beta, relevant):\n",
    "        self.beta = beta\n",
    "        self.relevant = relevant\n",
    "        self.k, self.p = self.beta.shape\n",
    "\n",
    "    def rvs(self, n, random_state=None):\n",
    "        RNG = np.random.default_rng(seed=random_state)\n",
    "        x = RNG.multivariate_normal(mean=np.zeros(self.p), cov=np.eye(self.p), size=n)\n",
    "        probs = softmax(x.dot(self.beta.T), axis=1)\n",
    "        y = np.array([RNG.multinomial(1, probs[i]) for i in range(n)])\n",
    "        _, y = np.nonzero(y)\n",
    "        return x, y\n",
    "\n",
    "k = 5\n",
    "r, p = 10, 20\n",
    "\n",
    "reps = 10\n",
    "ns = np.array([50, 100, 200, 400, 800, 1600])\n",
    "names = ['multiple cuts', 'single cut']\n",
    "methods = [VariableSelection(0.05, verbose=True), VariableSelection(0.05, False, verbose=True)]\n",
    "\n",
    "prec = np.zeros(shape=(len(methods), reps, len(ns)))\n",
    "rec = np.zeros(shape=(len(methods), reps, len(ns)))\n",
    "\n",
    "problem = Problem.randomSparseProblem(p, r, k, random_state=0)\n",
    "for j, n in enumerate(ns):\n",
    "    print('n: ',n)\n",
    "    for rep in range(reps):\n",
    "        x, y = problem.rvs(n)\n",
    "        for i, method in enumerate(methods):\n",
    "            selection = clone(method, safe=False) # VariableSelection(0.05, verbose=True).fit(x, y)\n",
    "            intersection = np.intersect1d(selection.selected_, problem.relevant)\n",
    "            precision = len(intersection)/len(selection.selected_)\n",
    "            recall = len(intersection)/len(problem.relevant)\n",
    "            prec[rep, j] = precision\n",
    "            rec[rep, j] = recall\n",
    "            print('|', end='')\n",
    "    print()\n"
   ]
  },
  {
   "cell_type": "code",
   "execution_count": 352,
   "metadata": {},
   "outputs": [
    {
     "data": {
      "image/png": "[encoded data removed]",
      "text/plain": [
       "<Figure size 576x288 with 2 Axes>"
      ]
     },
     "metadata": {
      "needs_background": "light"
     },
     "output_type": "display_data"
    }
   ],
   "source": [
    "from matplotlib import pyplot as plt\n",
    "\n",
    "_, axs = plt.subplots(1, 2, figsize=(8, 4), tight_layout=True, sharey=True)\n",
    "axs[0].errorbar(ns, rec.mean(axis=0), 1.96*rec.std(axis=0)/ns**0.5)\n",
    "axs[1].errorbar(ns, prec.mean(axis=0), 1.96*prec.std(axis=0)/ns**0.5)\n",
    "axs[0].set_xlabel('$n$')\n",
    "axs[1].set_xlabel('$n$')\n",
    "axs[0].set_title('recall')\n",
    "axs[1].set_title('precision')\n",
    "plt.show()"
   ]
  }
 ],
 "metadata": {
  "kernelspec": {
   "display_name": "Python 3",
   "language": "python",
   "name": "python3"
  },
  "language_info": {
   "codemirror_mode": {
    "name": "ipython",
    "version": 3
   },
   "file_extension": ".py",
   "mimetype": "text/x-python",
   "name": "python",
   "nbconvert_exporter": "python",
   "pygments_lexer": "ipython3",
   "version": "3.9.10"
  },
  "orig_nbformat": 4,
  "vscode": {
   "interpreter": {
    "hash": "aee8b7b246df8f9039afb4144a1f6fd8d2ca17a180786b69acc140d282b71a49"
   }
  }
 },
 "nbformat": 4,
 "nbformat_minor": 2
}
