{
 "cells": [
  {
   "attachments": {},
   "cell_type": "markdown",
   "metadata": {},
   "source": [
    "## Implementation"
   ]
  },
  {
   "cell_type": "code",
   "execution_count": 244,
   "metadata": {},
   "outputs": [],
   "source": [
    "import numpy as np\n",
    "from scipy.special import digamma\n",
    "from numba import njit\n",
    "\n",
    "@njit\n",
    "def knns_1d(x_srt, k=3, select=None):\n",
    "    select = np.arange(len(x_srt)) if select is None else select\n",
    "    nns = np.zeros(len(select), dtype='int')\n",
    "    left_bounds = np.zeros(len(select), dtype='int')\n",
    "    right_bounds = np.zeros(len(select), dtype='int')\n",
    "    for i in range(len(select)):\n",
    "        nn = i\n",
    "        left_candidate = i-1\n",
    "        right_candidate = i+1\n",
    "        for _ in range(1, k+1):\n",
    "            # let j be iteration index\n",
    "            # INV1: nn is index of j-th nearest neighbour\n",
    "            # INV2: left_candidate is max index less than i of point further away than j-th nearest neighbour\n",
    "            # INV3: right_candidate is min index greater than i of point further away than j-th nearest neighbour\n",
    "            if left_candidate == -1:\n",
    "                nn = right_candidate\n",
    "                right_candidate += 1\n",
    "            elif right_candidate == len(select):\n",
    "                nn = left_candidate\n",
    "                left_candidate -= 1\n",
    "            elif x_srt[select[right_candidate]]-x_srt[select[i]] <= x_srt[select[i]] - x_srt[select[left_candidate]]:\n",
    "                nn = right_candidate\n",
    "                right_candidate += 1\n",
    "            else:\n",
    "                nn = left_candidate\n",
    "                left_candidate -= 1\n",
    "        nns[i] = select[nn]\n",
    "        left_bounds[i] = select[left_candidate+1]\n",
    "        right_bounds[i] = select[right_candidate-1]\n",
    "    return nns, left_bounds, right_bounds\n",
    "\n",
    "@njit\n",
    "def global_counts_local_knn_dist_1d(x_srt, y, classes=None, k=3):\n",
    "    classes = np.unique(y) if classes is None else classes\n",
    "    counts = np.zeros_like(x_srt, 'int')\n",
    "    for c in classes:\n",
    "        selection = np.flatnonzero(y==c)\n",
    "        _, left_bounds, right_bounds = knns_1d(x_srt, k, select=selection)\n",
    "        counts[selection] = right_bounds - left_bounds\n",
    "    return counts\n",
    "\n",
    "def knn_mi_1d(x, y, k=3):\n",
    "    x = x.reshape(-1, 1) if len(x.shape)==1 else x\n",
    "    order = np.argsort(x, axis=0)\n",
    "    n, p = x.shape\n",
    "    res = np.zeros(p)\n",
    "    classes, class_counts = np.unique(y, return_counts=True)\n",
    "    for j in range(p):\n",
    "        x_srt = x[:, j][order[:, j]]\n",
    "        y_srt = y[order[:, j]]\n",
    "        counts = global_counts_local_knn_dist_1d(x_srt, y_srt, classes=classes, k=k)\n",
    "        res[j] = digamma(n) - digamma(class_counts).mean() + digamma(k) - digamma(counts).mean()\n",
    "    return res\n",
    "\n"
   ]
  },
  {
   "cell_type": "code",
   "execution_count": 168,
   "metadata": {},
   "outputs": [
    {
     "data": {
      "image/png": "[encoded data removed]",
      "text/plain": [
       "<Figure size 432x288 with 1 Axes>"
      ]
     },
     "metadata": {
      "needs_background": "light"
     },
     "output_type": "display_data"
    }
   ],
   "source": [
    "from matplotlib import pyplot as plt\n",
    "test_x = np.array([10, 1, 21.5, 22, 30, 11, 20, 5, 9, 17, 4, 24, 2])\n",
    "test_y = np.array([0, 0, 1, 0, 1, 1, 0, 0, 1, 0, 0, 0, 1])\n",
    "\n",
    "for i in np.unique(test_y):\n",
    "    plt.scatter(test_x[test_y==i], np.ones(len(test_x[test_y==i])))\n",
    "plt.show()"
   ]
  },
  {
   "cell_type": "code",
   "execution_count": 242,
   "metadata": {},
   "outputs": [
    {
     "data": {
      "text/plain": [
       "array([5, 8, 5, 5, 8, 5, 8, 4, 4, 8, 4, 4, 8])"
      ]
     },
     "execution_count": 242,
     "metadata": {},
     "output_type": "execute_result"
    }
   ],
   "source": [
    "order = np.argsort(test_x)\n",
    "global_counts_local_knn_dist_1d(test_x[order], test_y[order])"
   ]
  },
  {
   "attachments": {},
   "cell_type": "markdown",
   "metadata": {},
   "source": [
    "## Gaussian Mixture Test Case"
   ]
  },
  {
   "cell_type": "code",
   "execution_count": 246,
   "metadata": {},
   "outputs": [
    {
     "data": {
      "text/plain": [
       "(array([[-1.62327446],\n",
       "        [ 0.68369984],\n",
       "        [ 1.41163054],\n",
       "        [ 2.04251337],\n",
       "        [-0.95867402],\n",
       "        [-3.32503077],\n",
       "        [-1.21879166],\n",
       "        [-2.24591095],\n",
       "        [-1.73226735],\n",
       "        [-1.54425898]]),\n",
       " array([0, 1, 1, 1, 0, 0, 0, 0, 0, 0]))"
      ]
     },
     "execution_count": 246,
     "metadata": {},
     "output_type": "execute_result"
    }
   ],
   "source": [
    "import numpy as np\n",
    "\n",
    "def make_gaussian_mixture_data(n=10, k=2, means=[np.array([-1]), np.array([1])], covs=None, class_probs=None, random_state=None):\n",
    "    RNG = np.random.default_rng(seed=random_state)\n",
    "    d = len(means[0])\n",
    "    class_probs=np.ones(k)/k if class_probs is None else class_probs\n",
    "    _, y = np.nonzero(RNG.multinomial(1, class_probs, size=n))\n",
    "\n",
    "    covs = [np.eye(d) for _ in range(k)] if covs is None else covs\n",
    "    x = np.zeros(shape=(n, d))\n",
    "\n",
    "    for i in range(k):\n",
    "        idx_i = np.flatnonzero(y==i)\n",
    "        x[idx_i] = RNG.multivariate_normal(means[i], covs[i], size=len(idx_i))\n",
    "\n",
    "    return x, y\n",
    "\n",
    "make_gaussian_mixture_data(random_state=0)\n"
   ]
  },
  {
   "cell_type": "code",
   "execution_count": 51,
   "metadata": {},
   "outputs": [],
   "source": [
    "x, y = make_gaussian_mixture_data(200)"
   ]
  },
  {
   "cell_type": "code",
   "execution_count": 52,
   "metadata": {},
   "outputs": [
    {
     "data": {
      "image/png": "[encoded data removed]",
      "text/plain": [
       "<Figure size 432x288 with 1 Axes>"
      ]
     },
     "metadata": {
      "needs_background": "light"
     },
     "output_type": "display_data"
    }
   ],
   "source": [
    "plt.hist(x[y==0], bins=12, density=True)\n",
    "plt.hist(x[y==1], bins=12, density=True, alpha=0.7)\n",
    "plt.show()"
   ]
  },
  {
   "cell_type": "code",
   "execution_count": 253,
   "metadata": {},
   "outputs": [
    {
     "name": "stdout",
     "output_type": "stream",
     "text": [
      "86.5 µs ± 7.27 µs per loop (mean ± std. dev. of 7 runs, 1 loop each)\n"
     ]
    }
   ],
   "source": [
    "%timeit knns_1d(x)"
   ]
  },
  {
   "cell_type": "code",
   "execution_count": 247,
   "metadata": {},
   "outputs": [
    {
     "data": {
      "text/plain": [
       "array([0.46673608])"
      ]
     },
     "execution_count": 247,
     "metadata": {},
     "output_type": "execute_result"
    }
   ],
   "source": [
    "knn_mi_1d(x, y)"
   ]
  },
  {
   "cell_type": "code",
   "execution_count": 254,
   "metadata": {},
   "outputs": [
    {
     "data": {
      "image/png": "[encoded data removed]",
      "text/plain": [
       "<Figure size 432x288 with 1 Axes>"
      ]
     },
     "metadata": {
      "needs_background": "light"
     },
     "output_type": "display_data"
    }
   ],
   "source": [
    "RNG = np.random.default_rng(seed=0)\n",
    "reps = 10000\n",
    "null_samples = np.zeros(reps)\n",
    "for r in range(reps):\n",
    "    permutation = RNG.choice(len(y), len(y), replace=False)\n",
    "    y[permutation]\n",
    "    null_samples[r] = knn_mi_1d(x, y[permutation])[0]\n",
    "\n",
    "pvalue = sum(null_samples >= knn_mi_1d(x, y)[0])/len(null_samples)\n",
    "\n",
    "plt.hist(null_samples, bins=20, density=True)\n",
    "plt.axvline(knn_mi_1d(x, y)[0], color='red')\n",
    "plt.show()"
   ]
  }
 ],
 "metadata": {
  "kernelspec": {
   "display_name": "Python 3",
   "language": "python",
   "name": "python3"
  },
  "language_info": {
   "codemirror_mode": {
    "name": "ipython",
    "version": 3
   },
   "file_extension": ".py",
   "mimetype": "text/x-python",
   "name": "python",
   "nbconvert_exporter": "python",
   "pygments_lexer": "ipython3",
   "version": "3.9.10"
  },
  "orig_nbformat": 4
 },
 "nbformat": 4,
 "nbformat_minor": 2
}
